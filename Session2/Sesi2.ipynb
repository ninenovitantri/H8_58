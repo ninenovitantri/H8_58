{
 "cells": [
  {
   "cell_type": "code",
   "execution_count": 1,
   "id": "0de1617a",
   "metadata": {},
   "outputs": [
    {
     "name": "stdout",
     "output_type": "stream",
     "text": [
      "5\n",
      "4\n",
      "3\n",
      "2\n",
      "1\n"
     ]
    }
   ],
   "source": [
    "n = 5\n",
    "while n > 0:\n",
    "    print(n)\n",
    "    n = n-1"
   ]
  },
  {
   "cell_type": "code",
   "execution_count": 2,
   "id": "d1e4fd9b",
   "metadata": {},
   "outputs": [
    {
     "name": "stdout",
     "output_type": "stream",
     "text": [
      "4\n",
      "3\n",
      "2\n",
      "Loop ended.\n"
     ]
    }
   ],
   "source": [
    "n = 5\n",
    "while n > 0:\n",
    "    n -= 1\n",
    "    print(n)\n",
    "    if n == 2:\n",
    "        n = 0# Break statement\n",
    "\n",
    "print('Loop ended.')"
   ]
  },
  {
   "cell_type": "code",
   "execution_count": 3,
   "id": "159e2f14",
   "metadata": {},
   "outputs": [
    {
     "name": "stdout",
     "output_type": "stream",
     "text": [
      "0\n",
      "1\n",
      "2\n",
      "3\n",
      "4\n"
     ]
    }
   ],
   "source": [
    "for i in range (5):\n",
    "    print(i)"
   ]
  },
  {
   "cell_type": "code",
   "execution_count": 4,
   "id": "237aa981",
   "metadata": {},
   "outputs": [
    {
     "name": "stdout",
     "output_type": "stream",
     "text": [
      "5\n",
      "6\n",
      "7\n",
      "8\n",
      "9\n"
     ]
    }
   ],
   "source": [
    "for i in range (5, 10):\n",
    "    print(i)"
   ]
  },
  {
   "cell_type": "code",
   "execution_count": 6,
   "id": "e2fae10f",
   "metadata": {},
   "outputs": [
    {
     "name": "stdout",
     "output_type": "stream",
     "text": [
      "This number is0\n",
      "This number is1\n",
      "This number is2\n",
      "This number is3\n",
      "This number is4\n"
     ]
    }
   ],
   "source": [
    "for i in range (5):\n",
    "    print('This number is'+str(i))"
   ]
  },
  {
   "cell_type": "code",
   "execution_count": 9,
   "id": "b2989997",
   "metadata": {},
   "outputs": [
    {
     "name": "stdout",
     "output_type": "stream",
     "text": [
      "Masukkan angka: 3\n",
      "ganjil\n"
     ]
    }
   ],
   "source": [
    "x = int(input('Masukkan angka: ')) \n",
    "\n",
    "if x % 2 == 0: \n",
    "    print(\"genap\")\n",
    "else:\n",
    "    print(\"ganjil\")"
   ]
  },
  {
   "cell_type": "code",
   "execution_count": 11,
   "id": "e96b76b0",
   "metadata": {},
   "outputs": [
    {
     "name": "stdout",
     "output_type": "stream",
     "text": [
      "Masukkan angka: 14\n",
      "1\n",
      "2\n",
      "7\n"
     ]
    }
   ],
   "source": [
    "x = int(input('Masukkan angka: ')) \n",
    "y = 1\n",
    "\n",
    "\n",
    "while y < x:\n",
    "    if x % y == 0:\n",
    "        print(y)\n",
    "    y += 1"
   ]
  },
  {
   "cell_type": "code",
   "execution_count": 13,
   "id": "fa11a53c",
   "metadata": {},
   "outputs": [
    {
     "name": "stdout",
     "output_type": "stream",
     "text": [
      "Masukkan nilai: 90\n",
      "A\n"
     ]
    }
   ],
   "source": [
    "nilai = int(input('Masukkan nilai: ')) \n",
    "\n",
    "if nilai >= 85: \n",
    "    print(\"A\")\n",
    "elif nilai < 85 and nilai >= 80:\n",
    "    print(\"A-\")\n",
    "elif nilai < 79 and nilai >= 75:\n",
    "    print(\"B+\")\n",
    "elif nilai < 74 and nilai >= 70:\n",
    "    print(\"B\")\n",
    "elif nilai < 69 and nilai >= 65:\n",
    "    print(\"B-\")\n",
    "elif nilai < 64 and nilai >= 60:\n",
    "    print(\"C+\")\n",
    "elif nilai < 59 and nilai >= 55:\n",
    "    print(\"C\")\n",
    "elif nilai < 54:\n",
    "    print(\"D\")\n",
    "\n",
    "    "
   ]
  },
  {
   "cell_type": "code",
   "execution_count": null,
   "id": "5de67048",
   "metadata": {},
   "outputs": [],
   "source": [
    "angka = random.randInt(1, 9)\n",
    "\n"
   ]
  }
 ],
 "metadata": {
  "kernelspec": {
   "display_name": "Python 3",
   "language": "python",
   "name": "python3"
  },
  "language_info": {
   "codemirror_mode": {
    "name": "ipython",
    "version": 3
   },
   "file_extension": ".py",
   "mimetype": "text/x-python",
   "name": "python",
   "nbconvert_exporter": "python",
   "pygments_lexer": "ipython3",
   "version": "3.8.8"
  }
 },
 "nbformat": 4,
 "nbformat_minor": 5
}
