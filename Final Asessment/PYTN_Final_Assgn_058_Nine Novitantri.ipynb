{
 "cells": [
  {
   "cell_type": "code",
   "execution_count": 18,
   "id": "299e7a1c",
   "metadata": {},
   "outputs": [],
   "source": [
    "import numpy as np\n",
    "import pandas as pd\n",
    "%matplotlib inline\n",
    "import matplotlib as mpl\n",
    "import matplotlib.pyplot as plt\n",
    "import seaborn as sns\n",
    "import matplotlib.style as style\n",
    "import math\n",
    "import statistics\n",
    "import scipy.stats\n",
    "pd.set_option('display.max.columns',None)\n",
    "from sklearn.metrics import accuracy_score\n",
    "from sklearn import preprocessing # label encoder\n",
    "from sklearn.preprocessing import StandardScaler\n",
    "from sklearn.linear_model import LogisticRegression\n",
    "from sklearn.metrics import classification_report,confusion_matrix\n",
    "from sklearn.preprocessing import LabelEncoder\n",
    "from sklearn.neighbors import KNeighborsClassifier\n",
    "from sklearn import metrics #Import scikit-learn metrics module for accuracy calculation\n",
    "from sklearn.model_selection import train_test_split\n",
    "from sklearn.naive_bayes import GaussianNB\n",
    "from sklearn.tree import DecisionTreeClassifier\n",
    "from sklearn.ensemble import RandomForestClassifier\n",
    "from sklearn import svm"
   ]
  },
  {
   "cell_type": "markdown",
   "id": "f275f263",
   "metadata": {},
   "source": [
    "# Pengenalan"
   ]
  },
  {
   "cell_type": "markdown",
   "id": "de6dad32",
   "metadata": {},
   "source": [
    "Data yang digunakan diunduh di https://www.kaggle.com/selfishgene/historical-hourly-weather-data. Data yang digunakan dalam final asessment ini adalah data cuaca di kota Seattle, Washington, USA. Data ini terdiri dari Pressure, Wind Speed, Wind Direction, Humidity, Temperature, dan Weather Condition. Rentang waktu data yang dipakai mulai dari tahun 1 Oktober 2012 sampai dengan 30 November 2017, dengan waktu per jam."
   ]
  },
  {
   "cell_type": "markdown",
   "id": "7cff182e",
   "metadata": {},
   "source": [
    "# Data Loading & EDA"
   ]
  },
  {
   "cell_type": "code",
   "execution_count": 19,
   "id": "a0675880",
   "metadata": {},
   "outputs": [
    {
     "name": "stdout",
     "output_type": "stream",
     "text": [
      "Data read into a pandas dataframe!\n"
     ]
    },
    {
     "data": {
      "text/html": [
       "<div>\n",
       "<style scoped>\n",
       "    .dataframe tbody tr th:only-of-type {\n",
       "        vertical-align: middle;\n",
       "    }\n",
       "\n",
       "    .dataframe tbody tr th {\n",
       "        vertical-align: top;\n",
       "    }\n",
       "\n",
       "    .dataframe thead th {\n",
       "        text-align: right;\n",
       "    }\n",
       "</style>\n",
       "<table border=\"1\" class=\"dataframe\">\n",
       "  <thead>\n",
       "    <tr style=\"text-align: right;\">\n",
       "      <th></th>\n",
       "      <th>datetime</th>\n",
       "      <th>pressure</th>\n",
       "      <th>ws</th>\n",
       "      <th>wd</th>\n",
       "      <th>humidity</th>\n",
       "      <th>temp</th>\n",
       "      <th>weather</th>\n",
       "    </tr>\n",
       "  </thead>\n",
       "  <tbody>\n",
       "    <tr>\n",
       "      <th>0</th>\n",
       "      <td>10/1/2012 12:00</td>\n",
       "      <td>NaN</td>\n",
       "      <td>NaN</td>\n",
       "      <td>NaN</td>\n",
       "      <td>NaN</td>\n",
       "      <td>NaN</td>\n",
       "      <td>NaN</td>\n",
       "    </tr>\n",
       "    <tr>\n",
       "      <th>1</th>\n",
       "      <td>10/1/2012 13:00</td>\n",
       "      <td>1027.0</td>\n",
       "      <td>0.0</td>\n",
       "      <td>0.0</td>\n",
       "      <td>81.0</td>\n",
       "      <td>281.800000</td>\n",
       "      <td>No Precipitation</td>\n",
       "    </tr>\n",
       "    <tr>\n",
       "      <th>2</th>\n",
       "      <td>10/1/2012 14:00</td>\n",
       "      <td>1027.0</td>\n",
       "      <td>0.0</td>\n",
       "      <td>2.0</td>\n",
       "      <td>80.0</td>\n",
       "      <td>281.797217</td>\n",
       "      <td>No Precipitation</td>\n",
       "    </tr>\n",
       "    <tr>\n",
       "      <th>3</th>\n",
       "      <td>10/1/2012 15:00</td>\n",
       "      <td>1028.0</td>\n",
       "      <td>0.0</td>\n",
       "      <td>10.0</td>\n",
       "      <td>80.0</td>\n",
       "      <td>281.789833</td>\n",
       "      <td>No Precipitation</td>\n",
       "    </tr>\n",
       "    <tr>\n",
       "      <th>4</th>\n",
       "      <td>10/1/2012 16:00</td>\n",
       "      <td>1028.0</td>\n",
       "      <td>0.0</td>\n",
       "      <td>17.0</td>\n",
       "      <td>79.0</td>\n",
       "      <td>281.782449</td>\n",
       "      <td>No Precipitation</td>\n",
       "    </tr>\n",
       "    <tr>\n",
       "      <th>...</th>\n",
       "      <td>...</td>\n",
       "      <td>...</td>\n",
       "      <td>...</td>\n",
       "      <td>...</td>\n",
       "      <td>...</td>\n",
       "      <td>...</td>\n",
       "      <td>...</td>\n",
       "    </tr>\n",
       "    <tr>\n",
       "      <th>45248</th>\n",
       "      <td>11/29/2017 20:00</td>\n",
       "      <td>1030.0</td>\n",
       "      <td>4.0</td>\n",
       "      <td>190.0</td>\n",
       "      <td>93.0</td>\n",
       "      <td>280.820000</td>\n",
       "      <td>Precipitation</td>\n",
       "    </tr>\n",
       "    <tr>\n",
       "      <th>45249</th>\n",
       "      <td>11/29/2017 21:00</td>\n",
       "      <td>1030.0</td>\n",
       "      <td>5.0</td>\n",
       "      <td>130.0</td>\n",
       "      <td>87.0</td>\n",
       "      <td>281.650000</td>\n",
       "      <td>No Precipitation</td>\n",
       "    </tr>\n",
       "    <tr>\n",
       "      <th>45250</th>\n",
       "      <td>11/29/2017 22:00</td>\n",
       "      <td>1029.0</td>\n",
       "      <td>5.0</td>\n",
       "      <td>210.0</td>\n",
       "      <td>93.0</td>\n",
       "      <td>282.750000</td>\n",
       "      <td>No Precipitation</td>\n",
       "    </tr>\n",
       "    <tr>\n",
       "      <th>45251</th>\n",
       "      <td>11/29/2017 23:00</td>\n",
       "      <td>1028.0</td>\n",
       "      <td>3.0</td>\n",
       "      <td>210.0</td>\n",
       "      <td>87.0</td>\n",
       "      <td>282.960000</td>\n",
       "      <td>No Precipitation</td>\n",
       "    </tr>\n",
       "    <tr>\n",
       "      <th>45252</th>\n",
       "      <td>11/30/2017 0:00</td>\n",
       "      <td>1028.0</td>\n",
       "      <td>4.0</td>\n",
       "      <td>100.0</td>\n",
       "      <td>75.0</td>\n",
       "      <td>283.040000</td>\n",
       "      <td>No Precipitation</td>\n",
       "    </tr>\n",
       "  </tbody>\n",
       "</table>\n",
       "<p>45253 rows × 7 columns</p>\n",
       "</div>"
      ],
      "text/plain": [
       "               datetime  pressure   ws     wd  humidity        temp  \\\n",
       "0       10/1/2012 12:00       NaN  NaN    NaN       NaN         NaN   \n",
       "1       10/1/2012 13:00    1027.0  0.0    0.0      81.0  281.800000   \n",
       "2       10/1/2012 14:00    1027.0  0.0    2.0      80.0  281.797217   \n",
       "3       10/1/2012 15:00    1028.0  0.0   10.0      80.0  281.789833   \n",
       "4       10/1/2012 16:00    1028.0  0.0   17.0      79.0  281.782449   \n",
       "...                 ...       ...  ...    ...       ...         ...   \n",
       "45248  11/29/2017 20:00    1030.0  4.0  190.0      93.0  280.820000   \n",
       "45249  11/29/2017 21:00    1030.0  5.0  130.0      87.0  281.650000   \n",
       "45250  11/29/2017 22:00    1029.0  5.0  210.0      93.0  282.750000   \n",
       "45251  11/29/2017 23:00    1028.0  3.0  210.0      87.0  282.960000   \n",
       "45252   11/30/2017 0:00    1028.0  4.0  100.0      75.0  283.040000   \n",
       "\n",
       "                weather  \n",
       "0                   NaN  \n",
       "1      No Precipitation  \n",
       "2      No Precipitation  \n",
       "3      No Precipitation  \n",
       "4      No Precipitation  \n",
       "...                 ...  \n",
       "45248     Precipitation  \n",
       "45249  No Precipitation  \n",
       "45250  No Precipitation  \n",
       "45251  No Precipitation  \n",
       "45252  No Precipitation  \n",
       "\n",
       "[45253 rows x 7 columns]"
      ]
     },
     "execution_count": 19,
     "metadata": {},
     "output_type": "execute_result"
    }
   ],
   "source": [
    "df = pd.read_csv('C:/Users/Nine/Documents/hacktiv8/Final Asessment/seattle_weather.csv')\n",
    "print ('Data read into a pandas dataframe!')\n",
    "df"
   ]
  },
  {
   "cell_type": "code",
   "execution_count": 20,
   "id": "a282575e",
   "metadata": {},
   "outputs": [
    {
     "data": {
      "text/html": [
       "<div>\n",
       "<style scoped>\n",
       "    .dataframe tbody tr th:only-of-type {\n",
       "        vertical-align: middle;\n",
       "    }\n",
       "\n",
       "    .dataframe tbody tr th {\n",
       "        vertical-align: top;\n",
       "    }\n",
       "\n",
       "    .dataframe thead th {\n",
       "        text-align: right;\n",
       "    }\n",
       "</style>\n",
       "<table border=\"1\" class=\"dataframe\">\n",
       "  <thead>\n",
       "    <tr style=\"text-align: right;\">\n",
       "      <th></th>\n",
       "      <th>datetime</th>\n",
       "      <th>pressure</th>\n",
       "      <th>ws</th>\n",
       "      <th>wd</th>\n",
       "      <th>humidity</th>\n",
       "      <th>temp</th>\n",
       "      <th>weather</th>\n",
       "    </tr>\n",
       "  </thead>\n",
       "  <tbody>\n",
       "    <tr>\n",
       "      <th>0</th>\n",
       "      <td>10/1/2012 12:00</td>\n",
       "      <td>NaN</td>\n",
       "      <td>NaN</td>\n",
       "      <td>NaN</td>\n",
       "      <td>NaN</td>\n",
       "      <td>NaN</td>\n",
       "      <td>NaN</td>\n",
       "    </tr>\n",
       "    <tr>\n",
       "      <th>1</th>\n",
       "      <td>10/1/2012 13:00</td>\n",
       "      <td>1027.0</td>\n",
       "      <td>0.0</td>\n",
       "      <td>0.0</td>\n",
       "      <td>81.0</td>\n",
       "      <td>281.800000</td>\n",
       "      <td>No Precipitation</td>\n",
       "    </tr>\n",
       "    <tr>\n",
       "      <th>2</th>\n",
       "      <td>10/1/2012 14:00</td>\n",
       "      <td>1027.0</td>\n",
       "      <td>0.0</td>\n",
       "      <td>2.0</td>\n",
       "      <td>80.0</td>\n",
       "      <td>281.797217</td>\n",
       "      <td>No Precipitation</td>\n",
       "    </tr>\n",
       "    <tr>\n",
       "      <th>3</th>\n",
       "      <td>10/1/2012 15:00</td>\n",
       "      <td>1028.0</td>\n",
       "      <td>0.0</td>\n",
       "      <td>10.0</td>\n",
       "      <td>80.0</td>\n",
       "      <td>281.789833</td>\n",
       "      <td>No Precipitation</td>\n",
       "    </tr>\n",
       "    <tr>\n",
       "      <th>4</th>\n",
       "      <td>10/1/2012 16:00</td>\n",
       "      <td>1028.0</td>\n",
       "      <td>0.0</td>\n",
       "      <td>17.0</td>\n",
       "      <td>79.0</td>\n",
       "      <td>281.782449</td>\n",
       "      <td>No Precipitation</td>\n",
       "    </tr>\n",
       "  </tbody>\n",
       "</table>\n",
       "</div>"
      ],
      "text/plain": [
       "          datetime  pressure   ws    wd  humidity        temp  \\\n",
       "0  10/1/2012 12:00       NaN  NaN   NaN       NaN         NaN   \n",
       "1  10/1/2012 13:00    1027.0  0.0   0.0      81.0  281.800000   \n",
       "2  10/1/2012 14:00    1027.0  0.0   2.0      80.0  281.797217   \n",
       "3  10/1/2012 15:00    1028.0  0.0  10.0      80.0  281.789833   \n",
       "4  10/1/2012 16:00    1028.0  0.0  17.0      79.0  281.782449   \n",
       "\n",
       "            weather  \n",
       "0               NaN  \n",
       "1  No Precipitation  \n",
       "2  No Precipitation  \n",
       "3  No Precipitation  \n",
       "4  No Precipitation  "
      ]
     },
     "execution_count": 20,
     "metadata": {},
     "output_type": "execute_result"
    }
   ],
   "source": [
    "# View the top 5 rows of the dataset using the head() function.\n",
    "df.head()"
   ]
  },
  {
   "cell_type": "code",
   "execution_count": 21,
   "id": "af870f67",
   "metadata": {},
   "outputs": [
    {
     "data": {
      "text/html": [
       "<div>\n",
       "<style scoped>\n",
       "    .dataframe tbody tr th:only-of-type {\n",
       "        vertical-align: middle;\n",
       "    }\n",
       "\n",
       "    .dataframe tbody tr th {\n",
       "        vertical-align: top;\n",
       "    }\n",
       "\n",
       "    .dataframe thead th {\n",
       "        text-align: right;\n",
       "    }\n",
       "</style>\n",
       "<table border=\"1\" class=\"dataframe\">\n",
       "  <thead>\n",
       "    <tr style=\"text-align: right;\">\n",
       "      <th></th>\n",
       "      <th>datetime</th>\n",
       "      <th>pressure</th>\n",
       "      <th>ws</th>\n",
       "      <th>wd</th>\n",
       "      <th>humidity</th>\n",
       "      <th>temp</th>\n",
       "      <th>weather</th>\n",
       "    </tr>\n",
       "  </thead>\n",
       "  <tbody>\n",
       "    <tr>\n",
       "      <th>45248</th>\n",
       "      <td>11/29/2017 20:00</td>\n",
       "      <td>1030.0</td>\n",
       "      <td>4.0</td>\n",
       "      <td>190.0</td>\n",
       "      <td>93.0</td>\n",
       "      <td>280.82</td>\n",
       "      <td>Precipitation</td>\n",
       "    </tr>\n",
       "    <tr>\n",
       "      <th>45249</th>\n",
       "      <td>11/29/2017 21:00</td>\n",
       "      <td>1030.0</td>\n",
       "      <td>5.0</td>\n",
       "      <td>130.0</td>\n",
       "      <td>87.0</td>\n",
       "      <td>281.65</td>\n",
       "      <td>No Precipitation</td>\n",
       "    </tr>\n",
       "    <tr>\n",
       "      <th>45250</th>\n",
       "      <td>11/29/2017 22:00</td>\n",
       "      <td>1029.0</td>\n",
       "      <td>5.0</td>\n",
       "      <td>210.0</td>\n",
       "      <td>93.0</td>\n",
       "      <td>282.75</td>\n",
       "      <td>No Precipitation</td>\n",
       "    </tr>\n",
       "    <tr>\n",
       "      <th>45251</th>\n",
       "      <td>11/29/2017 23:00</td>\n",
       "      <td>1028.0</td>\n",
       "      <td>3.0</td>\n",
       "      <td>210.0</td>\n",
       "      <td>87.0</td>\n",
       "      <td>282.96</td>\n",
       "      <td>No Precipitation</td>\n",
       "    </tr>\n",
       "    <tr>\n",
       "      <th>45252</th>\n",
       "      <td>11/30/2017 0:00</td>\n",
       "      <td>1028.0</td>\n",
       "      <td>4.0</td>\n",
       "      <td>100.0</td>\n",
       "      <td>75.0</td>\n",
       "      <td>283.04</td>\n",
       "      <td>No Precipitation</td>\n",
       "    </tr>\n",
       "  </tbody>\n",
       "</table>\n",
       "</div>"
      ],
      "text/plain": [
       "               datetime  pressure   ws     wd  humidity    temp  \\\n",
       "45248  11/29/2017 20:00    1030.0  4.0  190.0      93.0  280.82   \n",
       "45249  11/29/2017 21:00    1030.0  5.0  130.0      87.0  281.65   \n",
       "45250  11/29/2017 22:00    1029.0  5.0  210.0      93.0  282.75   \n",
       "45251  11/29/2017 23:00    1028.0  3.0  210.0      87.0  282.96   \n",
       "45252   11/30/2017 0:00    1028.0  4.0  100.0      75.0  283.04   \n",
       "\n",
       "                weather  \n",
       "45248     Precipitation  \n",
       "45249  No Precipitation  \n",
       "45250  No Precipitation  \n",
       "45251  No Precipitation  \n",
       "45252  No Precipitation  "
      ]
     },
     "execution_count": 21,
     "metadata": {},
     "output_type": "execute_result"
    }
   ],
   "source": [
    "# View the bottom 5 rows of the dataset using the tail() function.\n",
    "df.tail()"
   ]
  },
  {
   "cell_type": "markdown",
   "id": "2b231859",
   "metadata": {},
   "source": [
    "Saat melakukan analisis suatu dataset, akan lebih baik jika pertama kali kita mengetahui basic tentang dataframe kita. Kita dapat melakukannya dengan menggunakan info() method."
   ]
  },
  {
   "cell_type": "code",
   "execution_count": 22,
   "id": "c7a450ff",
   "metadata": {},
   "outputs": [
    {
     "name": "stdout",
     "output_type": "stream",
     "text": [
      "<class 'pandas.core.frame.DataFrame'>\n",
      "RangeIndex: 45253 entries, 0 to 45252\n",
      "Data columns (total 7 columns):\n",
      " #   Column    Non-Null Count  Dtype  \n",
      "---  ------    --------------  -----  \n",
      " 0   datetime  45253 non-null  object \n",
      " 1   pressure  45240 non-null  float64\n",
      " 2   ws        45252 non-null  float64\n",
      " 3   wd        45252 non-null  float64\n",
      " 4   humidity  44964 non-null  float64\n",
      " 5   temp      45250 non-null  float64\n",
      " 6   weather   45252 non-null  object \n",
      "dtypes: float64(5), object(2)\n",
      "memory usage: 2.4+ MB\n"
     ]
    }
   ],
   "source": [
    "df.info()"
   ]
  },
  {
   "cell_type": "markdown",
   "id": "0c044b14",
   "metadata": {},
   "source": [
    "Jika kita ingin mengetahui atau melihat dimensi dataframe kita, maka kita gunakan .shape parameter."
   ]
  },
  {
   "cell_type": "code",
   "execution_count": 23,
   "id": "e6aefe7f",
   "metadata": {},
   "outputs": [
    {
     "data": {
      "text/plain": [
       "(45253, 7)"
      ]
     },
     "execution_count": 23,
     "metadata": {},
     "output_type": "execute_result"
    }
   ],
   "source": [
    "df.shape"
   ]
  },
  {
   "cell_type": "code",
   "execution_count": 24,
   "id": "b2cace88",
   "metadata": {},
   "outputs": [
    {
     "name": "stdout",
     "output_type": "stream",
     "text": [
      "No Precipitation    33775\n",
      "Precipitation       11477\n",
      "Name: weather, dtype: int64 \n",
      "\n"
     ]
    }
   ],
   "source": [
    "# Summary untuk jenis kategori\n",
    "\n",
    "for i in df[['weather']]:\n",
    "    print(df[i].value_counts(),'\\n')"
   ]
  },
  {
   "cell_type": "code",
   "execution_count": 25,
   "id": "4a60cbca",
   "metadata": {},
   "outputs": [
    {
     "data": {
      "text/html": [
       "<div>\n",
       "<style scoped>\n",
       "    .dataframe tbody tr th:only-of-type {\n",
       "        vertical-align: middle;\n",
       "    }\n",
       "\n",
       "    .dataframe tbody tr th {\n",
       "        vertical-align: top;\n",
       "    }\n",
       "\n",
       "    .dataframe thead th {\n",
       "        text-align: right;\n",
       "    }\n",
       "</style>\n",
       "<table border=\"1\" class=\"dataframe\">\n",
       "  <thead>\n",
       "    <tr style=\"text-align: right;\">\n",
       "      <th></th>\n",
       "      <th>pressure</th>\n",
       "      <th>ws</th>\n",
       "      <th>wd</th>\n",
       "      <th>humidity</th>\n",
       "      <th>temp</th>\n",
       "    </tr>\n",
       "  </thead>\n",
       "  <tbody>\n",
       "    <tr>\n",
       "      <th>count</th>\n",
       "      <td>45240.000000</td>\n",
       "      <td>45252.000000</td>\n",
       "      <td>45252.000000</td>\n",
       "      <td>44964.000000</td>\n",
       "      <td>45250.000000</td>\n",
       "    </tr>\n",
       "    <tr>\n",
       "      <th>mean</th>\n",
       "      <td>1021.001216</td>\n",
       "      <td>2.118116</td>\n",
       "      <td>161.380226</td>\n",
       "      <td>77.159038</td>\n",
       "      <td>284.409626</td>\n",
       "    </tr>\n",
       "    <tr>\n",
       "      <th>std</th>\n",
       "      <td>9.737187</td>\n",
       "      <td>1.629988</td>\n",
       "      <td>103.206816</td>\n",
       "      <td>18.147464</td>\n",
       "      <td>6.547986</td>\n",
       "    </tr>\n",
       "    <tr>\n",
       "      <th>min</th>\n",
       "      <td>980.000000</td>\n",
       "      <td>0.000000</td>\n",
       "      <td>0.000000</td>\n",
       "      <td>13.000000</td>\n",
       "      <td>263.780000</td>\n",
       "    </tr>\n",
       "    <tr>\n",
       "      <th>25%</th>\n",
       "      <td>1015.000000</td>\n",
       "      <td>1.000000</td>\n",
       "      <td>70.000000</td>\n",
       "      <td>66.000000</td>\n",
       "      <td>279.830000</td>\n",
       "    </tr>\n",
       "    <tr>\n",
       "      <th>50%</th>\n",
       "      <td>1020.000000</td>\n",
       "      <td>2.000000</td>\n",
       "      <td>175.000000</td>\n",
       "      <td>81.000000</td>\n",
       "      <td>283.940000</td>\n",
       "    </tr>\n",
       "    <tr>\n",
       "      <th>75%</th>\n",
       "      <td>1027.000000</td>\n",
       "      <td>3.000000</td>\n",
       "      <td>218.000000</td>\n",
       "      <td>93.000000</td>\n",
       "      <td>288.530000</td>\n",
       "    </tr>\n",
       "    <tr>\n",
       "      <th>max</th>\n",
       "      <td>1058.000000</td>\n",
       "      <td>24.000000</td>\n",
       "      <td>360.000000</td>\n",
       "      <td>100.000000</td>\n",
       "      <td>307.300000</td>\n",
       "    </tr>\n",
       "  </tbody>\n",
       "</table>\n",
       "</div>"
      ],
      "text/plain": [
       "           pressure            ws            wd      humidity          temp\n",
       "count  45240.000000  45252.000000  45252.000000  44964.000000  45250.000000\n",
       "mean    1021.001216      2.118116    161.380226     77.159038    284.409626\n",
       "std        9.737187      1.629988    103.206816     18.147464      6.547986\n",
       "min      980.000000      0.000000      0.000000     13.000000    263.780000\n",
       "25%     1015.000000      1.000000     70.000000     66.000000    279.830000\n",
       "50%     1020.000000      2.000000    175.000000     81.000000    283.940000\n",
       "75%     1027.000000      3.000000    218.000000     93.000000    288.530000\n",
       "max     1058.000000     24.000000    360.000000    100.000000    307.300000"
      ]
     },
     "execution_count": 25,
     "metadata": {},
     "output_type": "execute_result"
    }
   ],
   "source": [
    "# Summary data numeric\n",
    "\n",
    "df.describe()"
   ]
  },
  {
   "cell_type": "code",
   "execution_count": 26,
   "id": "71b1f0cf",
   "metadata": {},
   "outputs": [
    {
     "name": "stdout",
     "output_type": "stream",
     "text": [
      "                  pressure       ws       wd  humidity      temp  weather\n",
      "percent missing   0.028727  0.00221  0.00221  0.638632  0.006629  0.00221\n",
      "how many missing       NaN      NaN      NaN       NaN       NaN      NaN\n"
     ]
    }
   ],
   "source": [
    "# Check missing data\n",
    "\n",
    "missing = df.isnull().sum()/len(df)*100\n",
    "\n",
    "print(pd.DataFrame([missing[missing>0],pd.Series(df.isnull().sum()[df.isnull().sum()>1000])], index=['percent missing','how many missing']))"
   ]
  },
  {
   "cell_type": "code",
   "execution_count": 27,
   "id": "22b72663",
   "metadata": {},
   "outputs": [
    {
     "data": {
      "text/plain": [
       "Text(0.5, 1.0, 'Weather Condition in Seattle')"
      ]
     },
     "execution_count": 27,
     "metadata": {},
     "output_type": "execute_result"
    },
    {
     "data": {
      "image/png": "[encoded data removed]",
      "text/plain": [
       "<Figure size 432x288 with 1 Axes>"
      ]
     },
     "metadata": {},
     "output_type": "display_data"
    }
   ],
   "source": [
    "# persentase kondisi cuaca di seattle\n",
    "\n",
    "df_weath = df['weather'].value_counts()\n",
    "df_weath.plot(kind='pie',autopct='%1.1f%%',labels=df_weath.index)\n",
    "plt.axis('equal')\n",
    "plt.ylabel('')\n",
    "plt.title('Weather Condition in Seattle')"
   ]
  },
  {
   "cell_type": "code",
   "execution_count": 28,
   "id": "592491c2",
   "metadata": {},
   "outputs": [
    {
     "name": "stderr",
     "output_type": "stream",
     "text": [
      "C:\\ProgramData\\Anaconda3\\lib\\site-packages\\seaborn\\distributions.py:2557: FutureWarning: `distplot` is a deprecated function and will be removed in a future version. Please adapt your code to use either `displot` (a figure-level function with similar flexibility) or `histplot` (an axes-level function for histograms).\n",
      "  warnings.warn(msg, FutureWarning)\n",
      "C:\\ProgramData\\Anaconda3\\lib\\site-packages\\seaborn\\distributions.py:2557: FutureWarning: `distplot` is a deprecated function and will be removed in a future version. Please adapt your code to use either `displot` (a figure-level function with similar flexibility) or `histplot` (an axes-level function for histograms).\n",
      "  warnings.warn(msg, FutureWarning)\n",
      "C:\\ProgramData\\Anaconda3\\lib\\site-packages\\seaborn\\distributions.py:2557: FutureWarning: `distplot` is a deprecated function and will be removed in a future version. Please adapt your code to use either `displot` (a figure-level function with similar flexibility) or `histplot` (an axes-level function for histograms).\n",
      "  warnings.warn(msg, FutureWarning)\n",
      "C:\\ProgramData\\Anaconda3\\lib\\site-packages\\seaborn\\distributions.py:2557: FutureWarning: `distplot` is a deprecated function and will be removed in a future version. Please adapt your code to use either `displot` (a figure-level function with similar flexibility) or `histplot` (an axes-level function for histograms).\n",
      "  warnings.warn(msg, FutureWarning)\n",
      "C:\\ProgramData\\Anaconda3\\lib\\site-packages\\seaborn\\distributions.py:2557: FutureWarning: `distplot` is a deprecated function and will be removed in a future version. Please adapt your code to use either `displot` (a figure-level function with similar flexibility) or `histplot` (an axes-level function for histograms).\n",
      "  warnings.warn(msg, FutureWarning)\n"
     ]
    },
    {
     "data": {
      "image/png": "[encoded data removed]",
      "text/plain": [
       "<Figure size 720x720 with 5 Axes>"
      ]
     },
     "metadata": {
      "needs_background": "light"
     },
     "output_type": "display_data"
    }
   ],
   "source": [
    "# Distribusi parameter cuaca\n",
    "\n",
    "plt.figure(figsize = (15, 7))\n",
    "plt.style.use('seaborn-white')\n",
    "plt.subplot(231)\n",
    "sns.distplot(df['pressure'].dropna())\n",
    "fig = plt.gcf()\n",
    "fig.set_size_inches(10,10)\n",
    "\n",
    "plt.subplot(232)\n",
    "sns.distplot(df['ws'].dropna())\n",
    "fig = plt.gcf()\n",
    "fig.set_size_inches(10,10)\n",
    "\n",
    "plt.subplot(233)\n",
    "sns.distplot(df['wd'].dropna())\n",
    "fig = plt.gcf()\n",
    "fig.set_size_inches(10,10)\n",
    "\n",
    "plt.subplot(234)\n",
    "sns.distplot(df['humidity'].dropna())\n",
    "fig = plt.gcf()\n",
    "fig.set_size_inches(10,10)\n",
    "\n",
    "plt.subplot(235)\n",
    "sns.distplot(df['temp'].dropna())\n",
    "fig = plt.gcf()\n",
    "fig.set_size_inches(10,10)\n"
   ]
  },
  {
   "cell_type": "markdown",
   "id": "2427d965",
   "metadata": {},
   "source": [
    "# Preprocessing Data"
   ]
  },
  {
   "cell_type": "code",
   "execution_count": 29,
   "id": "a64b1e70",
   "metadata": {},
   "outputs": [],
   "source": [
    "# Hapus NaN\n",
    "\n",
    "df = df.dropna()"
   ]
  },
  {
   "cell_type": "code",
   "execution_count": 30,
   "id": "7bd62d7f",
   "metadata": {},
   "outputs": [
    {
     "name": "stderr",
     "output_type": "stream",
     "text": [
      "C:\\ProgramData\\Anaconda3\\lib\\site-packages\\pandas\\core\\frame.py:3191: SettingWithCopyWarning: \n",
      "A value is trying to be set on a copy of a slice from a DataFrame.\n",
      "Try using .loc[row_indexer,col_indexer] = value instead\n",
      "\n",
      "See the caveats in the documentation: https://pandas.pydata.org/pandas-docs/stable/user_guide/indexing.html#returning-a-view-versus-a-copy\n",
      "  self[k1] = value[k2]\n"
     ]
    }
   ],
   "source": [
    "# Mengubah data kategori menjadi numerik\n",
    "# creating labelEncoder\n",
    "\n",
    "le = preprocessing.LabelEncoder()\n",
    "\n",
    "# Convert teks ke numerical kategori\n",
    "\n",
    "df[['weather']] = df[['weather']].apply(le.fit_transform)"
   ]
  },
  {
   "cell_type": "code",
   "execution_count": 31,
   "id": "edb1a505",
   "metadata": {},
   "outputs": [
    {
     "data": {
      "text/html": [
       "<div>\n",
       "<style scoped>\n",
       "    .dataframe tbody tr th:only-of-type {\n",
       "        vertical-align: middle;\n",
       "    }\n",
       "\n",
       "    .dataframe tbody tr th {\n",
       "        vertical-align: top;\n",
       "    }\n",
       "\n",
       "    .dataframe thead th {\n",
       "        text-align: right;\n",
       "    }\n",
       "</style>\n",
       "<table border=\"1\" class=\"dataframe\">\n",
       "  <thead>\n",
       "    <tr style=\"text-align: right;\">\n",
       "      <th></th>\n",
       "      <th>datetime</th>\n",
       "      <th>pressure</th>\n",
       "      <th>ws</th>\n",
       "      <th>wd</th>\n",
       "      <th>humidity</th>\n",
       "      <th>temp</th>\n",
       "      <th>weather</th>\n",
       "    </tr>\n",
       "  </thead>\n",
       "  <tbody>\n",
       "    <tr>\n",
       "      <th>1</th>\n",
       "      <td>10/1/2012 13:00</td>\n",
       "      <td>1027.0</td>\n",
       "      <td>0.0</td>\n",
       "      <td>0.0</td>\n",
       "      <td>81.0</td>\n",
       "      <td>281.800000</td>\n",
       "      <td>0</td>\n",
       "    </tr>\n",
       "    <tr>\n",
       "      <th>2</th>\n",
       "      <td>10/1/2012 14:00</td>\n",
       "      <td>1027.0</td>\n",
       "      <td>0.0</td>\n",
       "      <td>2.0</td>\n",
       "      <td>80.0</td>\n",
       "      <td>281.797217</td>\n",
       "      <td>0</td>\n",
       "    </tr>\n",
       "    <tr>\n",
       "      <th>3</th>\n",
       "      <td>10/1/2012 15:00</td>\n",
       "      <td>1028.0</td>\n",
       "      <td>0.0</td>\n",
       "      <td>10.0</td>\n",
       "      <td>80.0</td>\n",
       "      <td>281.789833</td>\n",
       "      <td>0</td>\n",
       "    </tr>\n",
       "    <tr>\n",
       "      <th>4</th>\n",
       "      <td>10/1/2012 16:00</td>\n",
       "      <td>1028.0</td>\n",
       "      <td>0.0</td>\n",
       "      <td>17.0</td>\n",
       "      <td>79.0</td>\n",
       "      <td>281.782449</td>\n",
       "      <td>0</td>\n",
       "    </tr>\n",
       "    <tr>\n",
       "      <th>5</th>\n",
       "      <td>10/1/2012 17:00</td>\n",
       "      <td>1029.0</td>\n",
       "      <td>0.0</td>\n",
       "      <td>24.0</td>\n",
       "      <td>79.0</td>\n",
       "      <td>281.775065</td>\n",
       "      <td>0</td>\n",
       "    </tr>\n",
       "  </tbody>\n",
       "</table>\n",
       "</div>"
      ],
      "text/plain": [
       "          datetime  pressure   ws    wd  humidity        temp  weather\n",
       "1  10/1/2012 13:00    1027.0  0.0   0.0      81.0  281.800000        0\n",
       "2  10/1/2012 14:00    1027.0  0.0   2.0      80.0  281.797217        0\n",
       "3  10/1/2012 15:00    1028.0  0.0  10.0      80.0  281.789833        0\n",
       "4  10/1/2012 16:00    1028.0  0.0  17.0      79.0  281.782449        0\n",
       "5  10/1/2012 17:00    1029.0  0.0  24.0      79.0  281.775065        0"
      ]
     },
     "execution_count": 31,
     "metadata": {},
     "output_type": "execute_result"
    }
   ],
   "source": [
    "df.head()"
   ]
  },
  {
   "cell_type": "markdown",
   "id": "30e794d2",
   "metadata": {},
   "source": [
    "# Definisi Model"
   ]
  },
  {
   "cell_type": "markdown",
   "id": "a0b55450",
   "metadata": {},
   "source": [
    "Parameter yang digunakan sebagai features pada use case ini yaitu: pressure, ws, wd, humidity, dan temp.\n",
    "Parameter yang digunakan sebagai target yaitu weather."
   ]
  },
  {
   "cell_type": "code",
   "execution_count": 42,
   "id": "e38dcd51",
   "metadata": {},
   "outputs": [
    {
     "name": "stdout",
     "output_type": "stream",
     "text": [
      "dimensi feature total:  (44959, 5)\n",
      "dimensi feature train:  (31471, 5)\n",
      "dimensi feature test:  (13488, 5)\n",
      "dimensi target test:  (13488,)\n"
     ]
    }
   ],
   "source": [
    "data_feature = df[['pressure', 'ws', 'wd', 'humidity', 'temp']]\n",
    "data_target   = df[['weather']]\n",
    "\n",
    "# Split dataset into training set and test set\n",
    "\n",
    "x_train, x_test, y_train, y_test = train_test_split(data_feature, data_target, test_size=0.3, random_state=0) # 70% training and 30% test\n",
    "y_train = y_train.values.ravel()\n",
    "y_test = y_test.values.ravel()\n",
    "print('dimensi feature total: ', data_feature.shape)\n",
    "print('dimensi feature train: ', x_train.shape)\n",
    "print('dimensi feature test: ', x_test.shape)\n",
    "print('dimensi target test: ', y_test.shape)\n",
    "\n",
    "# Standarisasi data training\n",
    "scaler = StandardScaler()\n",
    "x_train = scaler.fit_transform(x_train)"
   ]
  },
  {
   "cell_type": "markdown",
   "id": "c44bc9d8",
   "metadata": {},
   "source": [
    "# Learning Model"
   ]
  },
  {
   "cell_type": "markdown",
   "id": "62ed5f84",
   "metadata": {},
   "source": [
    "# Logistic Regression"
   ]
  },
  {
   "cell_type": "code",
   "execution_count": 43,
   "id": "efd54b8c",
   "metadata": {},
   "outputs": [
    {
     "name": "stdout",
     "output_type": "stream",
     "text": [
      "[0 0 0 ... 0 0 0]\n",
      "Nilai akurasi pemodelan menggunakan data training adalah 0.761494709415017\n",
      "Nilai akurasi permodelan menggunakan data testing adalah 0.7585260972716489\n"
     ]
    },
    {
     "data": {
      "image/png": "[encoded data removed]",
      "text/plain": [
       "<Figure size 720x720 with 1 Axes>"
      ]
     },
     "metadata": {},
     "output_type": "display_data"
    },
    {
     "name": "stdout",
     "output_type": "stream",
     "text": [
      "              precision    recall  f1-score   support\n",
      "\n",
      "           0       0.78      0.95      0.85     10038\n",
      "           1       0.58      0.21      0.31      3450\n",
      "\n",
      "    accuracy                           0.76     13488\n",
      "   macro avg       0.68      0.58      0.58     13488\n",
      "weighted avg       0.73      0.76      0.71     13488\n",
      "\n"
     ]
    }
   ],
   "source": [
    "# Pemodelan\n",
    "model = LogisticRegression(solver='liblinear', C=0.05, multi_class='ovr',\n",
    "                           random_state=0)\n",
    "model.fit(x_train, y_train)\n",
    "\n",
    "# Testing dataset\n",
    "x_test = scaler.transform(x_test)\n",
    "\n",
    "# Prediksi output\n",
    "y_pred = model.predict(x_test)\n",
    "print(y_pred)\n",
    "print('Nilai akurasi pemodelan menggunakan data training adalah', model.score(x_train, y_train))\n",
    "print('Nilai akurasi permodelan menggunakan data testing adalah', model.score(x_test, y_test))\n",
    "\n",
    "# Confusion Matrix\n",
    "cm = confusion_matrix(y_test, y_pred)\n",
    "\n",
    "fig, ax = plt.subplots(figsize=(10, 10))\n",
    "ax.imshow(cm)\n",
    "ax.grid(False)\n",
    "ax.set_xlabel('Predicted outputs', color='black')\n",
    "ax.set_ylabel('Actual outputs', color='black')\n",
    "ax.xaxis.set(ticks=range(2))\n",
    "ax.yaxis.set(ticks=range(2))\n",
    "ax.set_ylim(1.5, -0.5)\n",
    "for i in range(2):\n",
    "    for j in range(2):\n",
    "        ax.text(j, i, cm[i, j], ha='center', va='center', color='white')\n",
    "plt.show()\n",
    "\n",
    "# Summary model\n",
    "print(classification_report(y_test, y_pred))"
   ]
  },
  {
   "cell_type": "markdown",
   "id": "faaa1883",
   "metadata": {},
   "source": [
    "# K-Nearest Neighbor (KNN)"
   ]
  },
  {
   "cell_type": "code",
   "execution_count": 44,
   "id": "51db8492",
   "metadata": {},
   "outputs": [],
   "source": [
    "error = []\n",
    "\n",
    "# Calculating error for K values between 1 and 20\n",
    "for i in range(1, 20):  \n",
    "    knn = KNeighborsClassifier(n_neighbors=i)\n",
    "    knn.fit(x_train, y_train)\n",
    "    pred_i = knn.predict(x_test)\n",
    "    error.append(np.mean(pred_i != y_test))"
   ]
  },
  {
   "cell_type": "code",
   "execution_count": 45,
   "id": "20f05576",
   "metadata": {},
   "outputs": [
    {
     "data": {
      "text/plain": [
       "Text(0, 0.5, 'Error mean')"
      ]
     },
     "execution_count": 45,
     "metadata": {},
     "output_type": "execute_result"
    },
    {
     "data": {
      "image/png": "[encoded data removed]",
      "text/plain": [
       "<Figure size 864x432 with 1 Axes>"
      ]
     },
     "metadata": {},
     "output_type": "display_data"
    }
   ],
   "source": [
    "# plotting error rate of K-Means\n",
    "plt.figure(figsize=(12, 6))  \n",
    "plt.plot(range(1, 20), error, color='red', linestyle='dashed', marker='o',  \n",
    "         markerfacecolor='blue', markersize=10)\n",
    "plt.title('Error Rate K')  \n",
    "plt.xlabel('K')  \n",
    "plt.ylabel('Error mean')"
   ]
  },
  {
   "cell_type": "code",
   "execution_count": 46,
   "id": "6c620307",
   "metadata": {},
   "outputs": [
    {
     "name": "stdout",
     "output_type": "stream",
     "text": [
      "Accuracy: 0.7919632265717675\n"
     ]
    }
   ],
   "source": [
    "# Create KNN Classifier\n",
    "knn = KNeighborsClassifier(n_neighbors=16)\n",
    "\n",
    "# Train model using the training sets\n",
    "knn.fit(x_train, y_train)\n",
    "\n",
    "# Predict the response for test dataset\n",
    "y_pred1 = knn.predict(x_test)\n",
    "\n",
    "# Model Accuracy, how often is the classifier correct?\n",
    "print(\"Accuracy:\",metrics.accuracy_score(y_test, y_pred1))"
   ]
  },
  {
   "cell_type": "markdown",
   "id": "b4bc3282",
   "metadata": {},
   "source": [
    "# Naive Bayes Classifier"
   ]
  },
  {
   "cell_type": "code",
   "execution_count": 47,
   "id": "d696a83f",
   "metadata": {},
   "outputs": [
    {
     "name": "stdout",
     "output_type": "stream",
     "text": [
      "Accuracy: 0.7543742586002372\n"
     ]
    }
   ],
   "source": [
    "# Create a Gaussian Naive Bayes Classifier\n",
    "gnb = GaussianNB()\n",
    "\n",
    "# Train the model using the training sets\n",
    "gnb.fit(x_train, y_train)\n",
    "\n",
    "# Predict the response for test dataset\n",
    "y_pred2 = gnb.predict(x_test)\n",
    "\n",
    "# Model Accuracy, how often is the classifier correct?\n",
    "print(\"Accuracy:\",metrics.accuracy_score(y_test, y_pred2))"
   ]
  },
  {
   "cell_type": "markdown",
   "id": "06f5e423",
   "metadata": {},
   "source": [
    "# Decision Tree Classifier"
   ]
  },
  {
   "cell_type": "code",
   "execution_count": 48,
   "id": "2ee8f976",
   "metadata": {},
   "outputs": [
    {
     "name": "stdout",
     "output_type": "stream",
     "text": [
      "Accuracy: 0.7631227758007118\n"
     ]
    }
   ],
   "source": [
    "feature_cols = list(df[df.columns[1:-1]])\n",
    "\n",
    "# Create Decision Tree classifer object\n",
    "d_tree = DecisionTreeClassifier(criterion=\"entropy\", max_depth=3)\n",
    "\n",
    "# Train Decision Tree Classifer\n",
    "d_tree = d_tree.fit(x_train,y_train)\n",
    "\n",
    "# Predict the response for test dataset\n",
    "y_pred3 = d_tree.predict(x_test)\n",
    "\n",
    "# Model Accuracy, how often is the classifier correct?\n",
    "print(\"Accuracy:\",metrics.accuracy_score(y_test, y_pred3))"
   ]
  },
  {
   "cell_type": "markdown",
   "id": "1f87365c",
   "metadata": {},
   "source": [
    "# Random Forest"
   ]
  },
  {
   "cell_type": "code",
   "execution_count": 49,
   "id": "49e6b2fa",
   "metadata": {},
   "outputs": [
    {
     "name": "stderr",
     "output_type": "stream",
     "text": [
      "No handles with labels found to put in legend.\n"
     ]
    },
    {
     "name": "stdout",
     "output_type": "stream",
     "text": [
      "Accuracy: 0.8112396204033214\n"
     ]
    },
    {
     "data": {
      "image/png": "[encoded data removed]",
      "text/plain": [
       "<Figure size 432x288 with 1 Axes>"
      ]
     },
     "metadata": {},
     "output_type": "display_data"
    }
   ],
   "source": [
    "# Create a Random Forest Classifier\n",
    "forest = RandomForestClassifier(n_estimators=100)\n",
    " \n",
    "# Train the model using the training\n",
    "forest.fit(x_train,y_train) \n",
    "\n",
    "y_pred4 = forest.predict(x_test)\n",
    "\n",
    "# Model Accuracy, how often is the classifier correct?\n",
    "print(\"Accuracy:\",metrics.accuracy_score(y_test, y_pred4))\n",
    "\n",
    "# Finding Important Features\n",
    "feature_imp = pd.Series(forest.feature_importances_,index=feature_cols).sort_values(ascending=False) \n",
    "\n",
    "# Creating a bar plot\n",
    "sns.barplot(x=feature_imp, y=feature_imp.index)\n",
    "\n",
    "# Add labels to your graph\n",
    "plt.xlabel('Feature Importance Score')\n",
    "plt.ylabel('Feature')\n",
    "plt.title(\"Visualizing Important Feature\")\n",
    "plt.legend()\n",
    "plt.show()"
   ]
  },
  {
   "cell_type": "markdown",
   "id": "abbf28cc",
   "metadata": {},
   "source": [
    "# Support Vector Machines"
   ]
  },
  {
   "cell_type": "code",
   "execution_count": 50,
   "id": "92244776",
   "metadata": {},
   "outputs": [
    {
     "name": "stdout",
     "output_type": "stream",
     "text": [
      "Accuracy: 0.7442170818505338\n"
     ]
    }
   ],
   "source": [
    "# Create a SVM Classifier\n",
    "svm_model = svm.SVC(kernel='linear') # Linear Kernel\n",
    "\n",
    "# Train the model using the training sets\n",
    "svm_model.fit(x_train, y_train) \n",
    "\n",
    "# Predict the response for test dataset\n",
    "y_pred5 = svm_model.predict(x_test)\n",
    "\n",
    "# Model Accuracy: how often is the classifier correct?\n",
    "print(\"Accuracy:\", metrics.accuracy_score(y_test, y_pred5))"
   ]
  },
  {
   "cell_type": "markdown",
   "id": "90738130",
   "metadata": {},
   "source": [
    "# Evaluasi Model"
   ]
  },
  {
   "cell_type": "code",
   "execution_count": 52,
   "id": "4a5a522f",
   "metadata": {},
   "outputs": [
    {
     "name": "stdout",
     "output_type": "stream",
     "text": [
      "Logistic Regression: 0.7585260972716489\n",
      "KNN: 0.7919632265717675\n",
      "Naive Bayes: 0.7543742586002372\n",
      "Decision Tree: 0.7631227758007118\n",
      "Random Forest: 0.8112396204033214\n",
      "SVM: 0.7442170818505338\n"
     ]
    }
   ],
   "source": [
    "print(\"Logistic Regression:\", accuracy_score(y_test, y_pred))\n",
    "print(\"KNN:\", accuracy_score(y_test, y_pred1))\n",
    "print(\"Naive Bayes:\", accuracy_score(y_test, y_pred2))\n",
    "print(\"Decision Tree:\", accuracy_score(y_test, y_pred3))\n",
    "print(\"Random Forest:\", accuracy_score(y_test, y_pred4))\n",
    "print(\"SVM:\", accuracy_score(y_test, y_pred5))"
   ]
  },
  {
   "cell_type": "markdown",
   "id": "e6783104",
   "metadata": {},
   "source": [
    "Berdasarkan hasil analisis yang telah dilakukan, dapat diketahui bahwa model yang memiliki tingkat akurasi tertinggi jika dibandingkan dengan model yang lain adalah Random Forest. Sehingga Random Forest dapat dikatakan tepat digunakan dalam memprediksi apakah cuaca akan terjadi precipitation atau tidak berdasarkan parameter pressure, wind speed, wind direction, humidity, dan suhu."
   ]
  },
  {
   "cell_type": "markdown",
   "id": "ff00000a",
   "metadata": {},
   "source": [
    "# Model Saving"
   ]
  },
  {
   "cell_type": "code",
   "execution_count": 53,
   "id": "a65b3c29",
   "metadata": {},
   "outputs": [],
   "source": [
    "import pickle\n",
    "pickle.dump(forest,open('./model_classifier.pkl','wb'))\n",
    "model = pickle.load(open('./model_classifier.pkl','rb'))"
   ]
  },
  {
   "cell_type": "markdown",
   "id": "4bfd736c",
   "metadata": {},
   "source": [
    "Data Feature yang digunakan untuk case ini adalah:"
   ]
  },
  {
   "cell_type": "markdown",
   "id": "7aff1bcb",
   "metadata": {},
   "source": [
    "Pressure (Pa), Wind Speed (Knot), Wind Direction (Degree), Humidity (Percentage),Temperature (Kelvin)"
   ]
  },
  {
   "cell_type": "code",
   "execution_count": 63,
   "id": "a5c6f4cb",
   "metadata": {},
   "outputs": [
    {
     "name": "stdout",
     "output_type": "stream",
     "text": [
      "Dimensi Data Input (1, 5)\n",
      "Hasil Prediksi:  [0]\n",
      "Kesimpulan:\n",
      "No Precipitation\n"
     ]
    }
   ],
   "source": [
    "data_input = np.array([950,0,15,93,241]).reshape(1,-1)\n",
    "\n",
    "print('Dimensi Data Input',data_input.shape)\n",
    "prediksi = model.predict(data_input)\n",
    "print('Hasil Prediksi: ', prediksi)\n",
    "print('Kesimpulan:')\n",
    "if prediksi == 0:\n",
    "    print(\"No Precipitation\")\n",
    "else:\n",
    "    print(\"There is Precipitation\")"
   ]
  },
  {
   "cell_type": "code",
   "execution_count": null,
   "id": "cb6f95c5",
   "metadata": {},
   "outputs": [],
   "source": []
  }
 ],
 "metadata": {
  "kernelspec": {
   "display_name": "Python 3",
   "language": "python",
   "name": "python3"
  },
  "language_info": {
   "codemirror_mode": {
    "name": "ipython",
    "version": 3
   },
   "file_extension": ".py",
   "mimetype": "text/x-python",
   "name": "python",
   "nbconvert_exporter": "python",
   "pygments_lexer": "ipython3",
   "version": "3.8.8"
  }
 },
 "nbformat": 4,
 "nbformat_minor": 5
}
